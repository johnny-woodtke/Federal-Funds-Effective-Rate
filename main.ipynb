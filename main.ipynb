{
 "cells": [
  {
   "cell_type": "code",
   "execution_count": 86,
   "metadata": {},
   "outputs": [],
   "source": [
    "import pandas as pd\n",
    "import math"
   ]
  },
  {
   "cell_type": "code",
   "execution_count": 87,
   "metadata": {},
   "outputs": [
    {
     "name": "stdout",
     "output_type": "stream",
     "text": [
      "         DATE   DFF\n",
      "0  1954-07-01  1.13\n",
      "1  1954-07-02  1.25\n",
      "2  1954-07-03  1.25\n",
      "3  1954-07-04  1.25\n",
      "4  1954-07-05  0.88\n",
      "\n",
      "             DATE   DFF\n",
      "25097  2023-03-18  4.58\n",
      "25098  2023-03-19  4.58\n",
      "25099  2023-03-20  4.58\n",
      "25100  2023-03-21  4.58\n",
      "25101  2023-03-22  4.58\n"
     ]
    }
   ],
   "source": [
    "# federal funds rate table\n",
    "dff = pd.read_csv('./DFF.csv')\n",
    "print(dff.head())\n",
    "print()\n",
    "print(dff.tail())"
   ]
  },
  {
   "cell_type": "code",
   "execution_count": 88,
   "metadata": {},
   "outputs": [
    {
     "name": "stdout",
     "output_type": "stream",
     "text": [
      "4.595267309377738 %\n"
     ]
    }
   ],
   "source": [
    "# take the average of the DFF column for average interest rate per year from 1954 to 2023\n",
    "avgDff = dff['DFF'].mean()\n",
    "print(avgDff, '%')"
   ]
  },
  {
   "cell_type": "code",
   "execution_count": 89,
   "metadata": {},
   "outputs": [
    {
     "name": "stdout",
     "output_type": "stream",
     "text": [
      "         DATE  CPIAUCNS\n",
      "0  1913-01-01       9.8\n",
      "1  1913-02-01       9.8\n",
      "2  1913-03-01       9.8\n",
      "3  1913-04-01       9.8\n",
      "4  1913-05-01       9.7\n",
      "\n",
      "            DATE  CPIAUCNS\n",
      "1317  2022-10-01   298.012\n",
      "1318  2022-11-01   297.711\n",
      "1319  2022-12-01   296.797\n",
      "1320  2023-01-01   299.170\n",
      "1321  2023-02-01   300.840\n"
     ]
    }
   ],
   "source": [
    "cpi = pd.read_csv('./CPIAUCNS.csv')\n",
    "print(cpi.head())\n",
    "print()\n",
    "print(cpi.tail())"
   ]
  },
  {
   "cell_type": "code",
   "execution_count": 98,
   "metadata": {},
   "outputs": [
    {
     "name": "stdout",
     "output_type": "stream",
     "text": [
      "           DATE  CPIAUCNS\n",
      "498  1954-07-01      26.9\n",
      "CPI 26.9\n",
      "\n",
      "            DATE  CPIAUCNS\n",
      "1321  2023-02-01    300.84\n",
      "CPI 300.84\n",
      "\n",
      "0.2920260842044886 %\n"
     ]
    }
   ],
   "source": [
    "# get the row with date 1954-07-01\n",
    "initialYear = 1954\n",
    "initialRow = cpi.loc[cpi['DATE'] == f'{initialYear}-07-01']\n",
    "cpiInitial = initialRow['CPIAUCNS'].values[0]\n",
    "print(initialRow)\n",
    "print('CPI', cpiInitial)\n",
    "print()\n",
    "\n",
    "# get the last row\n",
    "finalYear = 2023\n",
    "finalRow = cpi.loc[cpi['DATE'] == f'{finalYear}-02-01']\n",
    "cpiFinal = finalRow['CPIAUCNS'].values[0]\n",
    "print(finalRow)\n",
    "print('CPI', cpiFinal)\n",
    "print()\n",
    "\n",
    "# calculate the average inflation rate per month from 1954 to 2023 - FV = PV(1 + r)^n\n",
    "n = (finalYear - initialYear) * 12\n",
    "avgInflation = (10**(math.log10(cpiFinal / cpiInitial) / n) - 1) * 100\n",
    "print(avgInflation, '%')"
   ]
  },
  {
   "cell_type": "code",
   "execution_count": 91,
   "metadata": {},
   "outputs": [
    {
     "name": "stdout",
     "output_type": "stream",
     "text": [
      "0.9985583560956135 %\n"
     ]
    }
   ],
   "source": [
    "# calculate real rate of return of USD\n",
    "realRateUSD = ((1 + avgDff / 100) / (1 + avgInflation / 100) - 1) * 100\n",
    "print(realRateUSD, '%')"
   ]
  },
  {
   "cell_type": "code",
   "execution_count": 92,
   "metadata": {},
   "outputs": [
    {
     "name": "stdout",
     "output_type": "stream",
     "text": [
      "           DATE  CPIAUCNS\n",
      "121  1923-02-01      16.8\n",
      "CPI 16.8\n",
      "$ 358.1428571428571\n"
     ]
    }
   ],
   "source": [
    "# price of 1 oz of gold in 1923 (inflation adjusted to 2023 dollars with CPI)\n",
    "cpi1923Row = cpi.loc[cpi['DATE'] == '1923-02-01']\n",
    "cpi1923 = cpi1923Row['CPIAUCNS'].values[0]\n",
    "print(cpi1923Row)\n",
    "print('CPI', cpi1923)\n",
    "\n",
    "gold1923 = 20\n",
    "gold1923Adj = gold1923 * cpiFinal / cpi1923\n",
    "print('$', gold1923Adj)"
   ]
  },
  {
   "cell_type": "code",
   "execution_count": 93,
   "metadata": {},
   "outputs": [
    {
     "name": "stdout",
     "output_type": "stream",
     "text": [
      "1.734847172232712 %\n"
     ]
    }
   ],
   "source": [
    "# calculate the real rate of return for gold - PV(1 + r)^n = FV\n",
    "gold2023 = 2000\n",
    "n = 100\n",
    "\n",
    "realRateGold = (10**(math.log10(gold2023 / gold1923Adj) / n) - 1) * 100\n",
    "print(realRateGold, '%')"
   ]
  }
 ],
 "metadata": {
  "kernelspec": {
   "display_name": "Python 3",
   "language": "python",
   "name": "python3"
  },
  "language_info": {
   "codemirror_mode": {
    "name": "ipython",
    "version": 3
   },
   "file_extension": ".py",
   "mimetype": "text/x-python",
   "name": "python",
   "nbconvert_exporter": "python",
   "pygments_lexer": "ipython3",
   "version": "3.9.6"
  },
  "orig_nbformat": 4
 },
 "nbformat": 4,
 "nbformat_minor": 2
}
